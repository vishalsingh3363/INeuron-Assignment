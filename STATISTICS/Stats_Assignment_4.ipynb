{
 "cells": [
  {
   "cell_type": "code",
   "execution_count": null,
   "id": "2d07b854",
   "metadata": {},
   "outputs": [],
   "source": [
    "1. Is it possible that an event is independent of itself? If so, when?\n",
    "\n",
    "Ans-1 \n",
    "\n",
    "Two events  A  and  B  are independent if and only if  P(A∩B)=P(A)×P(B) .\n",
    "So an event is independent wrt itself if and only if  P(A∩A)=P(A)×P(A) ."
   ]
  },
  {
   "cell_type": "code",
   "execution_count": null,
   "id": "f1a09236",
   "metadata": {},
   "outputs": [],
   "source": [
    "2. Is it always true that if A and B are independent events, then Ac and Bc are independent\n",
    "events? Show that it is, or give a counterexample.\n",
    "\n",
    "Ans-2 \n",
    "Assume A and B are independent. Then\n",
    "P(Ac∩Bc)= 1−P(A∪B)\n",
    "P(Ac∩Bc)=1−P(A)−P(B)+P(A∩B)\n",
    "P(Ac∩Bc)=1−P(A)−P(B)+P(A)P(B)\n",
    "P(Ac∩Bc)=(1−P(A))(1−P(B))\n",
    "P(Ac∩Bc)=P(Ac)P(Bc).\n",
    "\n"
   ]
  }
 ],
 "metadata": {
  "kernelspec": {
   "display_name": "Python 3 (ipykernel)",
   "language": "python",
   "name": "python3"
  },
  "language_info": {
   "codemirror_mode": {
    "name": "ipython",
    "version": 3
   },
   "file_extension": ".py",
   "mimetype": "text/x-python",
   "name": "python",
   "nbconvert_exporter": "python",
   "pygments_lexer": "ipython3",
   "version": "3.9.12"
  }
 },
 "nbformat": 4,
 "nbformat_minor": 5
}
