{
 "cells": [
  {
   "cell_type": "code",
   "execution_count": null,
   "id": "8c4a2e15",
   "metadata": {},
   "outputs": [],
   "source": [
    "1. A group of n 2 people decide to play an exciting game of Rock-Paper Scissors. As you may\n",
    "recall, Rock smashes Scissors, Scissors cuts Paper, and Paper covers Rock (despite Bart\n",
    "Simpson saying “Good old rock, nothing beats that!”). Usually, this game is played with 2\n",
    "players, but it can be extended to more players as follows. If exactly 2 of the 3 choices\n",
    "appear when everyone reveals their choice, say a, b 2 {Rock, P aper, Scissors} where a beats\n",
    "b, the game is decisive: the players who chose a win, and the players who chose b lose.\n",
    "Otherwise, the game is indecisive and the players play again. For example, with 5 players, if\n",
    "one player picks Rock, two pick Scissors, and two pick Paper, the round is indecisive and they\n",
    "play again. But if 3 pick Rock and 2 pick Scissors, then the Rock players win and the Scissors\n",
    "players lose the game. 1 Assume that the n players independently and randomly choose\n",
    "between Rock, Scissors, and Paper, with equal probabilities. Let X, Y, Z be the number of\n",
    "players who pick Rock, Scissors, Paper, respectively in one game.\n",
    "(a) Find the joint PMF of X, Y, Z.\n",
    "(b) Find the probability that the game is decisive. Simplify your answer (it should not involve\n",
    "a sum of many terms).\n",
    "(c) What is the probability that the game is decisive for n = 5? What is the limiting probability\n",
    "that a game is decisive as n ! 1? Explain briefly why your answer makes sense."
   ]
  },
  {
   "cell_type": "code",
   "execution_count": null,
   "id": "aa73ee0d",
   "metadata": {},
   "outputs": [],
   "source": [
    "Ans-1 \n",
    "(a) \n",
    "\n",
    "The joint PMF of X, Y, Z is\n",
    "P(X = a, Y = b, Z = c) = n!/a!b!c! (1/3)\u0013a+b+c\n",
    "\n",
    "where a, b, c are any nonnegative integers with a + b + c = n, since (1/3)a+b+c is the\n",
    "probability of any specific configuration of choices for each player with the right numbers\n",
    "in each category, and the coefficient in front counts the number of distinct ways to\n",
    "permute such a configuration.\n",
    "Alternatively, we can write the joint PMF as\n",
    "P(X = a, Y = b, Z = c) = P(X = a)P(Y = b|X = a)P(Z = c|X = a, Y = b),\n",
    "where for a + b + c = n, P(X = a) can be found from the Bin(n, 1/3) PMF, P(Y =\n",
    "b|X = a) can be found from the Bin(n − a, 1/2) PMF, and P(Z = c|X = a, Y = b) = 1.\n",
    "This is a Mult3(n,(1/3),(1/3),(1/3)) distribution.\n",
    "\n"
   ]
  },
  {
   "cell_type": "code",
   "execution_count": null,
   "id": "67aa0705",
   "metadata": {},
   "outputs": [],
   "source": [
    "(b) \n",
    " The game is decisive if and only if exactly one of X, Y, Z is 0. These cases are disjoint\n",
    "so by symmetry, the probability is 3 times the probability that X is zero and Y and Z\n",
    "are nonzero. Note that if X = 0 and Y = k, then Z = n − k. This gives\n",
    "P(decisive) = 3\n",
    "nX−1\n",
    "k=1\n",
    "n!\n",
    "0!k!(n − k)! \u0012\n",
    "1\n",
    "3\n",
    "\u0013n\n",
    "= 3 \u0012\n",
    "1\n",
    "3\n",
    "\u0013n nX−1\n",
    "k=1\n",
    "n\n",
    "k\n",
    "!\n",
    "=\n",
    "2\n",
    "n − 2\n",
    "3\n",
    "n−1\n",
    "since Pn−1\n",
    "k=1 n\n",
    "k\n",
    "\u0001\n",
    "= −1 − 1 + Pn\n",
    "k=0 n\n",
    "k\n",
    "\u0001\n",
    "= 2n − 2 (by the binomial theorem or the fact\n",
    "that a set with n elements has 2n\n",
    "subsets). As a check, when n = 2 this reduces to 2/3,\n",
    "which makes sense since for 2 players, the game is decisive if and only if the two players\n",
    "do not pick the same choic"
   ]
  },
  {
   "cell_type": "code",
   "execution_count": null,
   "id": "223c2796",
   "metadata": {},
   "outputs": [],
   "source": [
    "(c)\n",
    "\n",
    "(c) For n = 5, the probability is (25−2)/3\n",
    "4 = 30/81 ≈ 0.37. As n → ∞, (2n−2)/3\n",
    "n−1 →\n",
    "0, which make sense since if the number of players is very large, it is very likely that\n",
    "there will be at least one of each of Rock, Paper, and Scissor"
   ]
  }
 ],
 "metadata": {
  "kernelspec": {
   "display_name": "Python 3 (ipykernel)",
   "language": "python",
   "name": "python3"
  },
  "language_info": {
   "codemirror_mode": {
    "name": "ipython",
    "version": 3
   },
   "file_extension": ".py",
   "mimetype": "text/x-python",
   "name": "python",
   "nbconvert_exporter": "python",
   "pygments_lexer": "ipython3",
   "version": "3.9.12"
  }
 },
 "nbformat": 4,
 "nbformat_minor": 5
}
