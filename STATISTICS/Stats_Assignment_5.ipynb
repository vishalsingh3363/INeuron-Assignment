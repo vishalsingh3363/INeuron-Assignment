{
 "cells": [
  {
   "cell_type": "code",
   "execution_count": null,
   "id": "181d6c8d",
   "metadata": {},
   "outputs": [],
   "source": [
    "1. Give an example of 3 events A, B, C which are pairwise independent but not independent.\n",
    "Hint: find an example where whether C occurs is completely determined if we know whether\n",
    "A occurred and whether B occurred, but completely undetermined if we know only one of\n",
    "these things.\n",
    "\n",
    "Ans-1 Consider two fair, independent coin tosses, and let A be the event that the\n",
    "first toss is Heads, B be the event that the second toss is Heads, and C be the\n",
    "event that the two tosses have the same result. Then A, B, C are dependent\n",
    "since P(A\\B \\ C) = P(A\\B) = P(A)P(B)=1/4 6= 1/8 = P(A)P(B)P(C),\n",
    "but they are pairwise independent: A and B are independent by definition; A\n",
    "and C are independent since P(A \\ C) = P(A \\ B)=1/4 = P(A)P(C), and\n",
    "similarly B and C are independent."
   ]
  },
  {
   "cell_type": "code",
   "execution_count": null,
   "id": "4bbff902",
   "metadata": {},
   "outputs": [],
   "source": [
    "2. A bag contains one marble which is either green or blue, with equal probabilities. A green\n",
    "marble is put in the bag (so there are 2 marbles now), and then a random marble is taken\n",
    "out. The marble taken out is green. What is the probability that the remaining marble is also\n",
    "green?\n",
    "\n",
    "Ans-2 The probability that the remaining marble is also green is =2/3."
   ]
  }
 ],
 "metadata": {
  "kernelspec": {
   "display_name": "Python 3 (ipykernel)",
   "language": "python",
   "name": "python3"
  },
  "language_info": {
   "codemirror_mode": {
    "name": "ipython",
    "version": 3
   },
   "file_extension": ".py",
   "mimetype": "text/x-python",
   "name": "python",
   "nbconvert_exporter": "python",
   "pygments_lexer": "ipython3",
   "version": "3.9.12"
  }
 },
 "nbformat": 4,
 "nbformat_minor": 5
}
