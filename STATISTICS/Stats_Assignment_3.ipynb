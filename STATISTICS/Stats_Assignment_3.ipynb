{
 "cells": [
  {
   "cell_type": "markdown",
   "id": "7555f57d",
   "metadata": {},
   "source": [
    "1. For a group of 7 people, find the probability that all 4 seasons (winter, spring, summer, fall)\n",
    "occur at least once each among their birthdays, assuming that all seasons are equally likely.\n",
    "\n",
    "Ans-1 The probability that all 4 seasons occur at least once is = 0.51288"
   ]
  },
  {
   "cell_type": "markdown",
   "id": "64f82347",
   "metadata": {},
   "source": [
    "2. Alice attends a small college in which each class meets only once a week. She is deciding\n",
    "between 30 non-overlapping classes. There are 6 classes to choose from for each day of the\n",
    "week, Monday through Friday. Trusting in the benevolence of randomness, Alice decides to\n",
    "register for 7 randomly selected classes out of the 30, with all choices equally likely. What is\n",
    "the probability that she will have classes every day, Monday through Friday?\n",
    "\n",
    "\n",
    "Ans-2 The probability that she will have classes every day, Monday through Friday is 0.302"
   ]
  }
 ],
 "metadata": {
  "kernelspec": {
   "display_name": "Python 3 (ipykernel)",
   "language": "python",
   "name": "python3"
  },
  "language_info": {
   "codemirror_mode": {
    "name": "ipython",
    "version": 3
   },
   "file_extension": ".py",
   "mimetype": "text/x-python",
   "name": "python",
   "nbconvert_exporter": "python",
   "pygments_lexer": "ipython3",
   "version": "3.9.12"
  }
 },
 "nbformat": 4,
 "nbformat_minor": 5
}
