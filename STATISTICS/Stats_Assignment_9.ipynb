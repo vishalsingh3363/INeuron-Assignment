{
 "cells": [
  {
   "cell_type": "markdown",
   "id": "c3d35664",
   "metadata": {},
   "source": [
    "1. You are going to play 2 games of chess with an opponent whom you have never played\n",
    "against before (for the sake of this problem). Your opponent is equally likely to be a\n",
    "beginner, intermediate, or a master. Depending on\n",
    "(a) What is your probability of winning the first game?\n",
    "(b) Congratulations: you won the first game! Given this information, what is the probability\n",
    "that you will also win the second game\n",
    "(c) Explain the distinction between assuming that the outcomes of the games are\n",
    "independent and assuming that they are conditionally independent given the opponent’s\n",
    "skill level. Which of these assumptions seems more reasonable, and why?\n",
    "\n",
    "\n",
    "Ans-1 \n",
    "(a)The probability of winning the first game = 17/30\n",
    "\n",
    "(b) The probability that you will also win the second game = 23/34\n",
    "\n",
    "(c) Independence here means that knowing one game’s outcome gives no information about the other game’s outcome, while conditional independence is the same statement where all probabilities are conditional on the opponent’s\n",
    "skill level. Conditional independence given the opponent’s skill level is a more reasonable assumption here. This is because winning the first game gives information about the opponent’s skill level, which in turn gives information about the result of the second game.\n",
    "That is, if the opponent’s skill level is treated as fixed and known, then it may\n",
    "be reasonable to assume independence of games given this information; with\n",
    "the opponent’s skill level random, earlier games can be used to help infer the\n",
    "opponent’s skill level, which a↵ects the probabilities for future games"
   ]
  }
 ],
 "metadata": {
  "kernelspec": {
   "display_name": "Python 3 (ipykernel)",
   "language": "python",
   "name": "python3"
  },
  "language_info": {
   "codemirror_mode": {
    "name": "ipython",
    "version": 3
   },
   "file_extension": ".py",
   "mimetype": "text/x-python",
   "name": "python",
   "nbconvert_exporter": "python",
   "pygments_lexer": "ipython3",
   "version": "3.9.12"
  }
 },
 "nbformat": 4,
 "nbformat_minor": 5
}
